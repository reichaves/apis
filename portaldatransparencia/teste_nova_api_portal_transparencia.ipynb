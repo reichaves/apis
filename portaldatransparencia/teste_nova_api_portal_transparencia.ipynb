{
 "cells": [
  {
   "cell_type": "code",
   "execution_count": 29,
   "metadata": {},
   "outputs": [],
   "source": [
    "import requests\n",
    "import pandas as pd\n",
    "import os\n",
    "import altair as alt"
   ]
  },
  {
   "cell_type": "code",
   "execution_count": null,
   "metadata": {},
   "outputs": [],
   "source": []
  },
  {
   "cell_type": "markdown",
   "metadata": {},
   "source": [
    "# Programa para acessar a nova API do Portal da Transparência: https://portaldatransparencia-h.cgu.gov.br/api-de-dados"
   ]
  },
  {
   "cell_type": "code",
   "execution_count": null,
   "metadata": {},
   "outputs": [],
   "source": []
  },
  {
   "cell_type": "markdown",
   "metadata": {},
   "source": [
    "Criado dia 2 de julho de 2018"
   ]
  },
  {
   "cell_type": "code",
   "execution_count": null,
   "metadata": {},
   "outputs": [],
   "source": []
  },
  {
   "cell_type": "markdown",
   "metadata": {},
   "source": [
    "Teste com Contratos do Poder Executivo Federal"
   ]
  },
  {
   "cell_type": "markdown",
   "metadata": {},
   "source": [
    "É preciso informar: dataInicial, dataFinal e codigoOrgao (SIAFI)"
   ]
  },
  {
   "cell_type": "markdown",
   "metadata": {},
   "source": [
    "O intervalo de consulta da API, neste tipo de dado, é só de um mês"
   ]
  },
  {
   "cell_type": "markdown",
   "metadata": {},
   "source": [
    "Vou extrair os contratos de todos os meses de 2017 e com código com do Ministério da Saúde =  36000"
   ]
  },
  {
   "cell_type": "code",
   "execution_count": null,
   "metadata": {},
   "outputs": [],
   "source": []
  },
  {
   "cell_type": "code",
   "execution_count": 39,
   "metadata": {},
   "outputs": [],
   "source": [
    "ano = '2017'\n",
    "dia_inicial = '01'\n",
    "dia_final = '31'\n",
    "codigoOrgao = '36000'"
   ]
  },
  {
   "cell_type": "code",
   "execution_count": null,
   "metadata": {},
   "outputs": [],
   "source": []
  },
  {
   "cell_type": "code",
   "execution_count": 40,
   "metadata": {},
   "outputs": [
    {
     "name": "stdout",
     "output_type": "stream",
     "text": [
      "01\n",
      "02\n",
      "03\n",
      "04\n",
      "05\n",
      "06\n",
      "07\n",
      "08\n",
      "09\n",
      "10\n",
      "11\n",
      "12\n"
     ]
    }
   ],
   "source": [
    "for num in range(1, 13):\n",
    "    if num <= 9:\n",
    "        mes = '0' + str(num)\n",
    "    else:\n",
    "        mes = str(num)\n",
    "    \n",
    "    print(mes)\n",
    "    \n",
    "    url = f'http://www.portaldatransparencia.gov.br/api-de-dados/contratos?dataInicial={dia_inicial}%2F{mes}%2F{ano}&dataFinal={dia_final}%2F{mes}%2F{ano}&codigoOrgao={codigoOrgao}&pagina=1'\n",
    "    \n",
    "    try: \n",
    "        r = requests.get(url)\n",
    "    except requests.exceptions.HTTPError as errh:\n",
    "        print (\"Http Error:\",errh)\n",
    "    except requests.exceptions.ConnectionError as errc:\n",
    "        print (\"Error Connecting:\",errc)\n",
    "    except requests.exceptions.Timeout as errt:\n",
    "        print (\"Timeout Error:\",errt)\n",
    "    except requests.exceptions.RequestException as err:\n",
    "        print (\"OOps: Something Else\",err)\n",
    "        \n",
    "    contratos = r.json()\n",
    "    \n",
    "    df_parcial = pd.DataFrame(contratos)\n",
    "    \n",
    "    if num == 1:\n",
    "        raw_df = df_parcial\n",
    "    elif num > 1:\n",
    "        raw_df = raw_df.append(df_parcial)\n",
    "        \n",
    "    "
   ]
  },
  {
   "cell_type": "code",
   "execution_count": 41,
   "metadata": {},
   "outputs": [
    {
     "name": "stdout",
     "output_type": "stream",
     "text": [
      "<class 'pandas.core.frame.DataFrame'>\n",
      "Int64Index: 174 entries, 0 to 14\n",
      "Data columns (total 13 columns):\n",
      "contrato              0 non-null object\n",
      "dataAssinatura        174 non-null object\n",
      "dataFimVigencia       8 non-null object\n",
      "dataInicioVigencia    174 non-null object\n",
      "dataPublicacaoDOU     174 non-null object\n",
      "dimCompra             174 non-null object\n",
      "fornecedor            174 non-null object\n",
      "id                    174 non-null int64\n",
      "modalidadeCompra      0 non-null object\n",
      "situacaoContrato      0 non-null object\n",
      "unidadeGestora        174 non-null object\n",
      "valorFinalCompra      174 non-null float64\n",
      "valorInicialCompra    174 non-null float64\n",
      "dtypes: float64(2), int64(1), object(10)\n",
      "memory usage: 19.0+ KB\n"
     ]
    }
   ],
   "source": [
    "raw_df.info()"
   ]
  },
  {
   "cell_type": "code",
   "execution_count": null,
   "metadata": {},
   "outputs": [],
   "source": []
  },
  {
   "cell_type": "markdown",
   "metadata": {},
   "source": [
    "Formato com duas casas decimais"
   ]
  },
  {
   "cell_type": "code",
   "execution_count": 42,
   "metadata": {},
   "outputs": [],
   "source": [
    "pd.options.display.float_format = '{:.2f}'.format"
   ]
  },
  {
   "cell_type": "code",
   "execution_count": null,
   "metadata": {},
   "outputs": [],
   "source": []
  },
  {
   "cell_type": "markdown",
   "metadata": {},
   "source": [
    "Definir diretórios de entrada e saída"
   ]
  },
  {
   "cell_type": "code",
   "execution_count": 43,
   "metadata": {},
   "outputs": [],
   "source": [
    "input_dir = os.path.join(os.getcwd(), \"input\")\n",
    "output_dir = os.path.join(os.getcwd(), \"output\")"
   ]
  },
  {
   "cell_type": "code",
   "execution_count": null,
   "metadata": {},
   "outputs": [],
   "source": []
  },
  {
   "cell_type": "code",
   "execution_count": 44,
   "metadata": {},
   "outputs": [],
   "source": [
    "df_contratos = raw_df "
   ]
  },
  {
   "cell_type": "code",
   "execution_count": null,
   "metadata": {},
   "outputs": [],
   "source": []
  },
  {
   "cell_type": "markdown",
   "metadata": {},
   "source": [
    "Muda para formato de datas"
   ]
  },
  {
   "cell_type": "code",
   "execution_count": 45,
   "metadata": {},
   "outputs": [],
   "source": [
    "df_contratos['dataAssinatura'] = pd.to_datetime(df_contratos['dataAssinatura'])\n",
    "df_contratos['dataFimVigencia'] = pd.to_datetime(df_contratos['dataFimVigencia'])\n",
    "df_contratos['dataInicioVigencia'] = pd.to_datetime(df_contratos['dataInicioVigencia'])\n",
    "df_contratos['dataPublicacaoDOU'] = pd.to_datetime(df_contratos['dataPublicacaoDOU'])"
   ]
  },
  {
   "cell_type": "code",
   "execution_count": null,
   "metadata": {},
   "outputs": [],
   "source": []
  },
  {
   "cell_type": "code",
   "execution_count": 46,
   "metadata": {},
   "outputs": [
    {
     "data": {
      "text/html": [
       "<div>\n",
       "<style scoped>\n",
       "    .dataframe tbody tr th:only-of-type {\n",
       "        vertical-align: middle;\n",
       "    }\n",
       "\n",
       "    .dataframe tbody tr th {\n",
       "        vertical-align: top;\n",
       "    }\n",
       "\n",
       "    .dataframe thead th {\n",
       "        text-align: right;\n",
       "    }\n",
       "</style>\n",
       "<table border=\"1\" class=\"dataframe\">\n",
       "  <thead>\n",
       "    <tr style=\"text-align: right;\">\n",
       "      <th></th>\n",
       "      <th>index</th>\n",
       "      <th>contrato</th>\n",
       "      <th>dataAssinatura</th>\n",
       "      <th>dataFimVigencia</th>\n",
       "      <th>dataInicioVigencia</th>\n",
       "      <th>dataPublicacaoDOU</th>\n",
       "      <th>dimCompra</th>\n",
       "      <th>fornecedor</th>\n",
       "      <th>id</th>\n",
       "      <th>modalidadeCompra</th>\n",
       "      <th>situacaoContrato</th>\n",
       "      <th>unidadeGestora</th>\n",
       "      <th>valorFinalCompra</th>\n",
       "      <th>valorInicialCompra</th>\n",
       "    </tr>\n",
       "  </thead>\n",
       "  <tbody>\n",
       "    <tr>\n",
       "      <th>0</th>\n",
       "      <td>0</td>\n",
       "      <td>None</td>\n",
       "      <td>2017-10-07</td>\n",
       "      <td>NaT</td>\n",
       "      <td>2017-10-07</td>\n",
       "      <td>2017-09-08</td>\n",
       "      <td>{'numero': '000122017', 'objeto': 'Objeto: For...</td>\n",
       "      <td>{'numeroInscricaoSocial': '', 'nome': 'CEB DIS...</td>\n",
       "      <td>870990</td>\n",
       "      <td>None</td>\n",
       "      <td>None</td>\n",
       "      <td>{'codigo': '250110', 'nome': 'COORDENACAO-GERA...</td>\n",
       "      <td>1902587.26</td>\n",
       "      <td>1902587.26</td>\n",
       "    </tr>\n",
       "    <tr>\n",
       "      <th>1</th>\n",
       "      <td>1</td>\n",
       "      <td>None</td>\n",
       "      <td>2018-06-04</td>\n",
       "      <td>NaT</td>\n",
       "      <td>2018-06-04</td>\n",
       "      <td>2018-07-05</td>\n",
       "      <td>{'numero': '000012018', 'objeto': 'Objeto: Con...</td>\n",
       "      <td>{'numeroInscricaoSocial': '', 'nome': 'AMAZONA...</td>\n",
       "      <td>871727</td>\n",
       "      <td>None</td>\n",
       "      <td>None</td>\n",
       "      <td>{'codigo': '257027', 'nome': 'DISTRITO SANIT.E...</td>\n",
       "      <td>9600.00</td>\n",
       "      <td>9600.00</td>\n",
       "    </tr>\n",
       "    <tr>\n",
       "      <th>2</th>\n",
       "      <td>2</td>\n",
       "      <td>None</td>\n",
       "      <td>2017-10-23</td>\n",
       "      <td>NaT</td>\n",
       "      <td>2017-01-11</td>\n",
       "      <td>2017-11-23</td>\n",
       "      <td>{'numero': '000152017', 'objeto': 'Objeto: Con...</td>\n",
       "      <td>{'numeroInscricaoSocial': '', 'nome': 'ENERGIS...</td>\n",
       "      <td>970151</td>\n",
       "      <td>None</td>\n",
       "      <td>None</td>\n",
       "      <td>{'codigo': '250027', 'nome': 'NUCLEO ESTADUAL ...</td>\n",
       "      <td>85191.16</td>\n",
       "      <td>85191.16</td>\n",
       "    </tr>\n",
       "    <tr>\n",
       "      <th>3</th>\n",
       "      <td>3</td>\n",
       "      <td>None</td>\n",
       "      <td>2017-10-23</td>\n",
       "      <td>NaT</td>\n",
       "      <td>2017-01-11</td>\n",
       "      <td>2017-11-28</td>\n",
       "      <td>{'numero': '000182017', 'objeto': 'Objeto: Con...</td>\n",
       "      <td>{'numeroInscricaoSocial': '', 'nome': 'ENERGIS...</td>\n",
       "      <td>1071248</td>\n",
       "      <td>None</td>\n",
       "      <td>None</td>\n",
       "      <td>{'codigo': '250027', 'nome': 'NUCLEO ESTADUAL ...</td>\n",
       "      <td>81342.04</td>\n",
       "      <td>81342.04</td>\n",
       "    </tr>\n",
       "    <tr>\n",
       "      <th>4</th>\n",
       "      <td>4</td>\n",
       "      <td>None</td>\n",
       "      <td>2017-06-02</td>\n",
       "      <td>NaT</td>\n",
       "      <td>2017-06-02</td>\n",
       "      <td>2017-03-30</td>\n",
       "      <td>{'numero': '000012017', 'objeto': 'Objeto: Con...</td>\n",
       "      <td>{'numeroInscricaoSocial': '', 'nome': 'EMPRESA...</td>\n",
       "      <td>1267590</td>\n",
       "      <td>None</td>\n",
       "      <td>None</td>\n",
       "      <td>{'codigo': '250057', 'nome': 'INST. NACIONAL D...</td>\n",
       "      <td>411000.00</td>\n",
       "      <td>411000.00</td>\n",
       "    </tr>\n",
       "  </tbody>\n",
       "</table>\n",
       "</div>"
      ],
      "text/plain": [
       "   index contrato dataAssinatura dataFimVigencia dataInicioVigencia  \\\n",
       "0      0     None     2017-10-07             NaT         2017-10-07   \n",
       "1      1     None     2018-06-04             NaT         2018-06-04   \n",
       "2      2     None     2017-10-23             NaT         2017-01-11   \n",
       "3      3     None     2017-10-23             NaT         2017-01-11   \n",
       "4      4     None     2017-06-02             NaT         2017-06-02   \n",
       "\n",
       "  dataPublicacaoDOU                                          dimCompra  \\\n",
       "0        2017-09-08  {'numero': '000122017', 'objeto': 'Objeto: For...   \n",
       "1        2018-07-05  {'numero': '000012018', 'objeto': 'Objeto: Con...   \n",
       "2        2017-11-23  {'numero': '000152017', 'objeto': 'Objeto: Con...   \n",
       "3        2017-11-28  {'numero': '000182017', 'objeto': 'Objeto: Con...   \n",
       "4        2017-03-30  {'numero': '000012017', 'objeto': 'Objeto: Con...   \n",
       "\n",
       "                                          fornecedor       id  \\\n",
       "0  {'numeroInscricaoSocial': '', 'nome': 'CEB DIS...   870990   \n",
       "1  {'numeroInscricaoSocial': '', 'nome': 'AMAZONA...   871727   \n",
       "2  {'numeroInscricaoSocial': '', 'nome': 'ENERGIS...   970151   \n",
       "3  {'numeroInscricaoSocial': '', 'nome': 'ENERGIS...  1071248   \n",
       "4  {'numeroInscricaoSocial': '', 'nome': 'EMPRESA...  1267590   \n",
       "\n",
       "  modalidadeCompra situacaoContrato  \\\n",
       "0             None             None   \n",
       "1             None             None   \n",
       "2             None             None   \n",
       "3             None             None   \n",
       "4             None             None   \n",
       "\n",
       "                                      unidadeGestora  valorFinalCompra  \\\n",
       "0  {'codigo': '250110', 'nome': 'COORDENACAO-GERA...        1902587.26   \n",
       "1  {'codigo': '257027', 'nome': 'DISTRITO SANIT.E...           9600.00   \n",
       "2  {'codigo': '250027', 'nome': 'NUCLEO ESTADUAL ...          85191.16   \n",
       "3  {'codigo': '250027', 'nome': 'NUCLEO ESTADUAL ...          81342.04   \n",
       "4  {'codigo': '250057', 'nome': 'INST. NACIONAL D...         411000.00   \n",
       "\n",
       "   valorInicialCompra  \n",
       "0          1902587.26  \n",
       "1             9600.00  \n",
       "2            85191.16  \n",
       "3            81342.04  \n",
       "4           411000.00  "
      ]
     },
     "execution_count": 46,
     "metadata": {},
     "output_type": "execute_result"
    }
   ],
   "source": [
    "df_contratos.reset_index().head()"
   ]
  },
  {
   "cell_type": "code",
   "execution_count": null,
   "metadata": {},
   "outputs": [],
   "source": []
  },
  {
   "cell_type": "markdown",
   "metadata": {},
   "source": [
    "Qual é o número de contratos?"
   ]
  },
  {
   "cell_type": "code",
   "execution_count": 50,
   "metadata": {},
   "outputs": [
    {
     "data": {
      "text/plain": [
       "174"
      ]
     },
     "execution_count": 50,
     "metadata": {},
     "output_type": "execute_result"
    }
   ],
   "source": [
    "len(df_contratos)"
   ]
  },
  {
   "cell_type": "markdown",
   "metadata": {},
   "source": [
    "No total, quanto dinheiro foi pago?"
   ]
  },
  {
   "cell_type": "code",
   "execution_count": 54,
   "metadata": {},
   "outputs": [
    {
     "data": {
      "text/plain": [
       "'$42,159,169'"
      ]
     },
     "execution_count": 54,
     "metadata": {},
     "output_type": "execute_result"
    }
   ],
   "source": [
    "\"${:,.0f}\".format(df_contratos.valorFinalCompra.sum())"
   ]
  },
  {
   "cell_type": "markdown",
   "metadata": {},
   "source": [
    "Quais são as outras estatísticas descritivas?"
   ]
  },
  {
   "cell_type": "code",
   "execution_count": 55,
   "metadata": {},
   "outputs": [
    {
     "data": {
      "text/html": [
       "<div>\n",
       "<style scoped>\n",
       "    .dataframe tbody tr th:only-of-type {\n",
       "        vertical-align: middle;\n",
       "    }\n",
       "\n",
       "    .dataframe tbody tr th {\n",
       "        vertical-align: top;\n",
       "    }\n",
       "\n",
       "    .dataframe thead th {\n",
       "        text-align: right;\n",
       "    }\n",
       "</style>\n",
       "<table border=\"1\" class=\"dataframe\">\n",
       "  <thead>\n",
       "    <tr style=\"text-align: right;\">\n",
       "      <th></th>\n",
       "      <th>index</th>\n",
       "      <th>valorFinalCompra</th>\n",
       "    </tr>\n",
       "  </thead>\n",
       "  <tbody>\n",
       "    <tr>\n",
       "      <th>0</th>\n",
       "      <td>count</td>\n",
       "      <td>174.00</td>\n",
       "    </tr>\n",
       "    <tr>\n",
       "      <th>1</th>\n",
       "      <td>mean</td>\n",
       "      <td>242294.07</td>\n",
       "    </tr>\n",
       "    <tr>\n",
       "      <th>2</th>\n",
       "      <td>std</td>\n",
       "      <td>557709.74</td>\n",
       "    </tr>\n",
       "    <tr>\n",
       "      <th>3</th>\n",
       "      <td>min</td>\n",
       "      <td>0.01</td>\n",
       "    </tr>\n",
       "    <tr>\n",
       "      <th>4</th>\n",
       "      <td>25%</td>\n",
       "      <td>41697.92</td>\n",
       "    </tr>\n",
       "    <tr>\n",
       "      <th>5</th>\n",
       "      <td>50%</td>\n",
       "      <td>81342.04</td>\n",
       "    </tr>\n",
       "    <tr>\n",
       "      <th>6</th>\n",
       "      <td>75%</td>\n",
       "      <td>163981.62</td>\n",
       "    </tr>\n",
       "    <tr>\n",
       "      <th>7</th>\n",
       "      <td>max</td>\n",
       "      <td>3984000.00</td>\n",
       "    </tr>\n",
       "  </tbody>\n",
       "</table>\n",
       "</div>"
      ],
      "text/plain": [
       "   index  valorFinalCompra\n",
       "0  count            174.00\n",
       "1   mean         242294.07\n",
       "2    std         557709.74\n",
       "3    min              0.01\n",
       "4    25%          41697.92\n",
       "5    50%          81342.04\n",
       "6    75%         163981.62\n",
       "7    max        3984000.00"
      ]
     },
     "execution_count": 55,
     "metadata": {},
     "output_type": "execute_result"
    }
   ],
   "source": [
    "df_contratos.valorFinalCompra.describe().reset_index()"
   ]
  },
  {
   "cell_type": "code",
   "execution_count": null,
   "metadata": {},
   "outputs": [],
   "source": []
  },
  {
   "cell_type": "markdown",
   "metadata": {},
   "source": [
    "Ainda é preciso converter os campos dimCompra, fornecedor e unidadeGestora para os cálculos finais"
   ]
  },
  {
   "cell_type": "code",
   "execution_count": null,
   "metadata": {},
   "outputs": [],
   "source": []
  },
  {
   "cell_type": "code",
   "execution_count": 58,
   "metadata": {},
   "outputs": [],
   "source": [
    "df_contratos.to_csv(os.path.join(output_dir, \"contratos_2017_ministerio_saude.csv\"))"
   ]
  },
  {
   "cell_type": "code",
   "execution_count": null,
   "metadata": {},
   "outputs": [],
   "source": []
  }
 ],
 "metadata": {
  "kernelspec": {
   "display_name": "Python 3",
   "language": "python",
   "name": "python3"
  },
  "language_info": {
   "codemirror_mode": {
    "name": "ipython",
    "version": 3
   },
   "file_extension": ".py",
   "mimetype": "text/x-python",
   "name": "python",
   "nbconvert_exporter": "python",
   "pygments_lexer": "ipython3",
   "version": "3.6.2"
  }
 },
 "nbformat": 4,
 "nbformat_minor": 2
}
