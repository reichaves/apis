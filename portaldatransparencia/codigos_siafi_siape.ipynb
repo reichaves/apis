{
 "cells": [
  {
   "cell_type": "code",
   "execution_count": 1,
   "metadata": {},
   "outputs": [],
   "source": [
    "# -*- coding: utf-8\n",
    "# Reinaldo Chaves (@paidatocandeira)\n",
    "# Acessa a API do Portal da Transparência para pegar os códigos de identificação do SIAFI e do SIAPE\n",
    "#"
   ]
  },
  {
   "cell_type": "code",
   "execution_count": 2,
   "metadata": {},
   "outputs": [],
   "source": [
    "import requests\n",
    "import pandas as pd"
   ]
  },
  {
   "cell_type": "code",
   "execution_count": null,
   "metadata": {},
   "outputs": [],
   "source": []
  },
  {
   "cell_type": "code",
   "execution_count": null,
   "metadata": {},
   "outputs": [],
   "source": [
    "# Documentação em: http://www.transparencia.gov.br/swagger-ui.html#/\n",
    "# Procurar em Órgãos"
   ]
  },
  {
   "cell_type": "code",
   "execution_count": null,
   "metadata": {},
   "outputs": [],
   "source": []
  },
  {
   "cell_type": "markdown",
   "metadata": {},
   "source": [
    "# SIAFI - Sistema Integrado de Administração Financeira do Governo Federal"
   ]
  },
  {
   "cell_type": "code",
   "execution_count": 4,
   "metadata": {},
   "outputs": [
    {
     "name": "stdout",
     "output_type": "stream",
     "text": [
      "http://www.portaldatransparencia.gov.br/api-de-dados/orgaos-siafi?pagina=1\n",
      "http://www.portaldatransparencia.gov.br/api-de-dados/orgaos-siafi?pagina=2\n",
      "http://www.portaldatransparencia.gov.br/api-de-dados/orgaos-siafi?pagina=3\n",
      "http://www.portaldatransparencia.gov.br/api-de-dados/orgaos-siafi?pagina=4\n",
      "http://www.portaldatransparencia.gov.br/api-de-dados/orgaos-siafi?pagina=5\n",
      "http://www.portaldatransparencia.gov.br/api-de-dados/orgaos-siafi?pagina=6\n",
      "http://www.portaldatransparencia.gov.br/api-de-dados/orgaos-siafi?pagina=7\n",
      "http://www.portaldatransparencia.gov.br/api-de-dados/orgaos-siafi?pagina=8\n",
      "http://www.portaldatransparencia.gov.br/api-de-dados/orgaos-siafi?pagina=9\n",
      "http://www.portaldatransparencia.gov.br/api-de-dados/orgaos-siafi?pagina=10\n",
      "http://www.portaldatransparencia.gov.br/api-de-dados/orgaos-siafi?pagina=11\n",
      "http://www.portaldatransparencia.gov.br/api-de-dados/orgaos-siafi?pagina=12\n",
      "http://www.portaldatransparencia.gov.br/api-de-dados/orgaos-siafi?pagina=13\n",
      "http://www.portaldatransparencia.gov.br/api-de-dados/orgaos-siafi?pagina=14\n",
      "http://www.portaldatransparencia.gov.br/api-de-dados/orgaos-siafi?pagina=15\n",
      "http://www.portaldatransparencia.gov.br/api-de-dados/orgaos-siafi?pagina=16\n",
      "http://www.portaldatransparencia.gov.br/api-de-dados/orgaos-siafi?pagina=17\n",
      "http://www.portaldatransparencia.gov.br/api-de-dados/orgaos-siafi?pagina=18\n",
      "http://www.portaldatransparencia.gov.br/api-de-dados/orgaos-siafi?pagina=19\n",
      "http://www.portaldatransparencia.gov.br/api-de-dados/orgaos-siafi?pagina=20\n",
      "http://www.portaldatransparencia.gov.br/api-de-dados/orgaos-siafi?pagina=21\n",
      "http://www.portaldatransparencia.gov.br/api-de-dados/orgaos-siafi?pagina=22\n",
      "http://www.portaldatransparencia.gov.br/api-de-dados/orgaos-siafi?pagina=23\n",
      "http://www.portaldatransparencia.gov.br/api-de-dados/orgaos-siafi?pagina=24\n",
      "http://www.portaldatransparencia.gov.br/api-de-dados/orgaos-siafi?pagina=25\n",
      "http://www.portaldatransparencia.gov.br/api-de-dados/orgaos-siafi?pagina=26\n",
      "http://www.portaldatransparencia.gov.br/api-de-dados/orgaos-siafi?pagina=27\n",
      "http://www.portaldatransparencia.gov.br/api-de-dados/orgaos-siafi?pagina=28\n",
      "http://www.portaldatransparencia.gov.br/api-de-dados/orgaos-siafi?pagina=29\n",
      "http://www.portaldatransparencia.gov.br/api-de-dados/orgaos-siafi?pagina=30\n",
      "http://www.portaldatransparencia.gov.br/api-de-dados/orgaos-siafi?pagina=31\n",
      "http://www.portaldatransparencia.gov.br/api-de-dados/orgaos-siafi?pagina=32\n",
      "http://www.portaldatransparencia.gov.br/api-de-dados/orgaos-siafi?pagina=33\n",
      "http://www.portaldatransparencia.gov.br/api-de-dados/orgaos-siafi?pagina=34\n",
      "http://www.portaldatransparencia.gov.br/api-de-dados/orgaos-siafi?pagina=35\n",
      "http://www.portaldatransparencia.gov.br/api-de-dados/orgaos-siafi?pagina=36\n",
      "http://www.portaldatransparencia.gov.br/api-de-dados/orgaos-siafi?pagina=37\n",
      "http://www.portaldatransparencia.gov.br/api-de-dados/orgaos-siafi?pagina=38\n",
      "http://www.portaldatransparencia.gov.br/api-de-dados/orgaos-siafi?pagina=39\n"
     ]
    }
   ],
   "source": [
    "# Na documentação é possível verificar que são 39 páginas atualmente\n",
    "for num in range(1, 40): \n",
    "    pagina = str(num)\n",
    "    # Aqui o único parâmetro necessário é o número da página\n",
    "    url = f'http://www.portaldatransparencia.gov.br/api-de-dados/orgaos-siafi?pagina={pagina}'\n",
    "    print(url)\n",
    "    \n",
    "    try:\n",
    "        # Faz requisição com o método GET\n",
    "        # O método GET é usado para recuperar informações do servidor usando um determinado URI\n",
    "        r = requests.get(url)\n",
    "    except requests.exceptions.HTTPError as errh:\n",
    "        print (\"Http Error:\",errh)\n",
    "    except requests.exceptions.ConnectionError as errc:\n",
    "        print (\"Error Connecting:\",errc) \n",
    "    except requests.exceptions.Timeout as errt:\n",
    "        print (\"Timeout Error:\",errt)\n",
    "    except requests.exceptions.RequestException as err:\n",
    "        print (\"OOps: Something Else\",err)\n",
    "    \n",
    "    # Uma das formas de resposta pode ser no formato JSON\n",
    "    siafi = r.json()\n",
    "    \n",
    "    # Só para mostrar o JSON\n",
    "    #print(siafi)\n",
    "    #a = input(\"Aperte para continuar...\")\n",
    "    \n",
    "    # E o formato JSON pode ser transformado em dataframe com o pandas    \n",
    "    df_siafi_parcial = pd.DataFrame(siafi)\n",
    "    \n",
    "    if num == 1:\n",
    "        df_siafi = df_siafi_parcial\n",
    "    elif num > 1:\n",
    "        # Depois da primeira página faz append no dataframe final\n",
    "        df_siafi = df_siafi.append(df_siafi_parcial)"
   ]
  },
  {
   "cell_type": "code",
   "execution_count": null,
   "metadata": {},
   "outputs": [],
   "source": []
  },
  {
   "cell_type": "code",
   "execution_count": 5,
   "metadata": {},
   "outputs": [
    {
     "data": {
      "text/html": [
       "<div>\n",
       "<style scoped>\n",
       "    .dataframe tbody tr th:only-of-type {\n",
       "        vertical-align: middle;\n",
       "    }\n",
       "\n",
       "    .dataframe tbody tr th {\n",
       "        vertical-align: top;\n",
       "    }\n",
       "\n",
       "    .dataframe thead th {\n",
       "        text-align: right;\n",
       "    }\n",
       "</style>\n",
       "<table border=\"1\" class=\"dataframe\">\n",
       "  <thead>\n",
       "    <tr style=\"text-align: right;\">\n",
       "      <th></th>\n",
       "      <th>index</th>\n",
       "      <th>codigo</th>\n",
       "      <th>descricao</th>\n",
       "    </tr>\n",
       "  </thead>\n",
       "  <tbody>\n",
       "    <tr>\n",
       "      <th>0</th>\n",
       "      <td>0</td>\n",
       "      <td>01000</td>\n",
       "      <td>CAMARA DOS DEPUTADOS - UNIDADES COM VÍNCULO DI...</td>\n",
       "    </tr>\n",
       "    <tr>\n",
       "      <th>1</th>\n",
       "      <td>1</td>\n",
       "      <td>01901</td>\n",
       "      <td>FUNDO ROTATIVO DA CAMARA DOS DEPUTADOS</td>\n",
       "    </tr>\n",
       "    <tr>\n",
       "      <th>2</th>\n",
       "      <td>2</td>\n",
       "      <td>02000</td>\n",
       "      <td>SENADO FEDERAL - UNIDADES COM VÍNCULO DIRETO</td>\n",
       "    </tr>\n",
       "    <tr>\n",
       "      <th>3</th>\n",
       "      <td>3</td>\n",
       "      <td>02001</td>\n",
       "      <td>FUNDO ESPECIAL DO SENADO FEDERAL</td>\n",
       "    </tr>\n",
       "    <tr>\n",
       "      <th>4</th>\n",
       "      <td>4</td>\n",
       "      <td>02002</td>\n",
       "      <td>SENADO FEDERAL/FUNSEEP</td>\n",
       "    </tr>\n",
       "  </tbody>\n",
       "</table>\n",
       "</div>"
      ],
      "text/plain": [
       "   index codigo                                          descricao\n",
       "0      0  01000  CAMARA DOS DEPUTADOS - UNIDADES COM VÍNCULO DI...\n",
       "1      1  01901             FUNDO ROTATIVO DA CAMARA DOS DEPUTADOS\n",
       "2      2  02000       SENADO FEDERAL - UNIDADES COM VÍNCULO DIRETO\n",
       "3      3  02001                   FUNDO ESPECIAL DO SENADO FEDERAL\n",
       "4      4  02002                             SENADO FEDERAL/FUNSEEP"
      ]
     },
     "execution_count": 5,
     "metadata": {},
     "output_type": "execute_result"
    }
   ],
   "source": [
    "df_siafi.reset_index().head()"
   ]
  },
  {
   "cell_type": "code",
   "execution_count": 6,
   "metadata": {},
   "outputs": [
    {
     "name": "stdout",
     "output_type": "stream",
     "text": [
      "<class 'pandas.core.frame.DataFrame'>\n",
      "Int64Index: 576 entries, 0 to 5\n",
      "Data columns (total 2 columns):\n",
      "codigo       576 non-null object\n",
      "descricao    576 non-null object\n",
      "dtypes: object(2)\n",
      "memory usage: 13.5+ KB\n"
     ]
    }
   ],
   "source": [
    "df_siafi.info()"
   ]
  },
  {
   "cell_type": "code",
   "execution_count": null,
   "metadata": {},
   "outputs": [],
   "source": []
  },
  {
   "cell_type": "code",
   "execution_count": 7,
   "metadata": {},
   "outputs": [],
   "source": [
    "# Procura quais tem CIENCIA no nome"
   ]
  },
  {
   "cell_type": "code",
   "execution_count": 8,
   "metadata": {},
   "outputs": [],
   "source": [
    "str_choice = \"CIENCIA|CIÊNCIA\" \n",
    "\n",
    "ciencia = df_siafi[df_siafi['descricao'].str.contains(str_choice, na=False)]"
   ]
  },
  {
   "cell_type": "code",
   "execution_count": 9,
   "metadata": {},
   "outputs": [
    {
     "data": {
      "text/html": [
       "<div>\n",
       "<style scoped>\n",
       "    .dataframe tbody tr th:only-of-type {\n",
       "        vertical-align: middle;\n",
       "    }\n",
       "\n",
       "    .dataframe tbody tr th {\n",
       "        vertical-align: top;\n",
       "    }\n",
       "\n",
       "    .dataframe thead th {\n",
       "        text-align: right;\n",
       "    }\n",
       "</style>\n",
       "<table border=\"1\" class=\"dataframe\">\n",
       "  <thead>\n",
       "    <tr style=\"text-align: right;\">\n",
       "      <th></th>\n",
       "      <th>codigo</th>\n",
       "      <th>descricao</th>\n",
       "    </tr>\n",
       "  </thead>\n",
       "  <tbody>\n",
       "    <tr>\n",
       "      <th>10</th>\n",
       "      <td>24000</td>\n",
       "      <td>MINIST.DA CIENCIA,TECNOL.,INOV.E COMUNICACOES ...</td>\n",
       "    </tr>\n",
       "    <tr>\n",
       "      <th>12</th>\n",
       "      <td>26284</td>\n",
       "      <td>FUN.UNIV.FED.DE CIENCIAS DA SAUDE DE P.ALEGRE</td>\n",
       "    </tr>\n",
       "    <tr>\n",
       "      <th>3</th>\n",
       "      <td>26356</td>\n",
       "      <td>INSTITUTO FED. ED. CIENCIA E TEC. DE BRASILIA</td>\n",
       "    </tr>\n",
       "  </tbody>\n",
       "</table>\n",
       "</div>"
      ],
      "text/plain": [
       "   codigo                                          descricao\n",
       "10  24000  MINIST.DA CIENCIA,TECNOL.,INOV.E COMUNICACOES ...\n",
       "12  26284      FUN.UNIV.FED.DE CIENCIAS DA SAUDE DE P.ALEGRE\n",
       "3   26356      INSTITUTO FED. ED. CIENCIA E TEC. DE BRASILIA"
      ]
     },
     "execution_count": 9,
     "metadata": {},
     "output_type": "execute_result"
    }
   ],
   "source": [
    "ciencia"
   ]
  },
  {
   "cell_type": "code",
   "execution_count": null,
   "metadata": {},
   "outputs": [],
   "source": [
    "# O Ministério da Ciência, Tecnologia, Inovações e Comunicações é '24000'"
   ]
  },
  {
   "cell_type": "code",
   "execution_count": null,
   "metadata": {},
   "outputs": [],
   "source": []
  },
  {
   "cell_type": "code",
   "execution_count": 10,
   "metadata": {},
   "outputs": [],
   "source": [
    "# Grava CSV"
   ]
  },
  {
   "cell_type": "code",
   "execution_count": 11,
   "metadata": {},
   "outputs": [],
   "source": [
    "df_siafi.to_csv(\"codigos/codigos_siafi.csv\", index=False)"
   ]
  },
  {
   "cell_type": "code",
   "execution_count": null,
   "metadata": {},
   "outputs": [],
   "source": []
  },
  {
   "cell_type": "code",
   "execution_count": null,
   "metadata": {},
   "outputs": [],
   "source": [
    "# Agora mesmo processo para pegar os códigos de identificação do SIAPE"
   ]
  },
  {
   "cell_type": "markdown",
   "metadata": {},
   "source": [
    "#  SIAPE (Sistema Integrado de Administração de Pessoal)"
   ]
  },
  {
   "cell_type": "code",
   "execution_count": 12,
   "metadata": {},
   "outputs": [
    {
     "name": "stdout",
     "output_type": "stream",
     "text": [
      "http://www.portaldatransparencia.gov.br/api-de-dados/orgaos-siape?pagina=1\n",
      "http://www.portaldatransparencia.gov.br/api-de-dados/orgaos-siape?pagina=2\n",
      "http://www.portaldatransparencia.gov.br/api-de-dados/orgaos-siape?pagina=3\n",
      "http://www.portaldatransparencia.gov.br/api-de-dados/orgaos-siape?pagina=4\n",
      "http://www.portaldatransparencia.gov.br/api-de-dados/orgaos-siape?pagina=5\n",
      "http://www.portaldatransparencia.gov.br/api-de-dados/orgaos-siape?pagina=6\n",
      "http://www.portaldatransparencia.gov.br/api-de-dados/orgaos-siape?pagina=7\n",
      "http://www.portaldatransparencia.gov.br/api-de-dados/orgaos-siape?pagina=8\n",
      "http://www.portaldatransparencia.gov.br/api-de-dados/orgaos-siape?pagina=9\n",
      "http://www.portaldatransparencia.gov.br/api-de-dados/orgaos-siape?pagina=10\n",
      "http://www.portaldatransparencia.gov.br/api-de-dados/orgaos-siape?pagina=11\n",
      "http://www.portaldatransparencia.gov.br/api-de-dados/orgaos-siape?pagina=12\n",
      "http://www.portaldatransparencia.gov.br/api-de-dados/orgaos-siape?pagina=13\n",
      "http://www.portaldatransparencia.gov.br/api-de-dados/orgaos-siape?pagina=14\n",
      "http://www.portaldatransparencia.gov.br/api-de-dados/orgaos-siape?pagina=15\n",
      "http://www.portaldatransparencia.gov.br/api-de-dados/orgaos-siape?pagina=16\n",
      "http://www.portaldatransparencia.gov.br/api-de-dados/orgaos-siape?pagina=17\n",
      "http://www.portaldatransparencia.gov.br/api-de-dados/orgaos-siape?pagina=18\n",
      "http://www.portaldatransparencia.gov.br/api-de-dados/orgaos-siape?pagina=19\n",
      "http://www.portaldatransparencia.gov.br/api-de-dados/orgaos-siape?pagina=20\n",
      "http://www.portaldatransparencia.gov.br/api-de-dados/orgaos-siape?pagina=21\n",
      "http://www.portaldatransparencia.gov.br/api-de-dados/orgaos-siape?pagina=22\n",
      "http://www.portaldatransparencia.gov.br/api-de-dados/orgaos-siape?pagina=23\n",
      "http://www.portaldatransparencia.gov.br/api-de-dados/orgaos-siape?pagina=24\n",
      "http://www.portaldatransparencia.gov.br/api-de-dados/orgaos-siape?pagina=25\n",
      "http://www.portaldatransparencia.gov.br/api-de-dados/orgaos-siape?pagina=26\n",
      "http://www.portaldatransparencia.gov.br/api-de-dados/orgaos-siape?pagina=27\n",
      "http://www.portaldatransparencia.gov.br/api-de-dados/orgaos-siape?pagina=28\n",
      "http://www.portaldatransparencia.gov.br/api-de-dados/orgaos-siape?pagina=29\n",
      "http://www.portaldatransparencia.gov.br/api-de-dados/orgaos-siape?pagina=30\n",
      "http://www.portaldatransparencia.gov.br/api-de-dados/orgaos-siape?pagina=31\n",
      "http://www.portaldatransparencia.gov.br/api-de-dados/orgaos-siape?pagina=32\n",
      "http://www.portaldatransparencia.gov.br/api-de-dados/orgaos-siape?pagina=33\n",
      "http://www.portaldatransparencia.gov.br/api-de-dados/orgaos-siape?pagina=34\n",
      "http://www.portaldatransparencia.gov.br/api-de-dados/orgaos-siape?pagina=35\n",
      "http://www.portaldatransparencia.gov.br/api-de-dados/orgaos-siape?pagina=36\n",
      "http://www.portaldatransparencia.gov.br/api-de-dados/orgaos-siape?pagina=37\n",
      "http://www.portaldatransparencia.gov.br/api-de-dados/orgaos-siape?pagina=38\n",
      "http://www.portaldatransparencia.gov.br/api-de-dados/orgaos-siape?pagina=39\n",
      "http://www.portaldatransparencia.gov.br/api-de-dados/orgaos-siape?pagina=40\n"
     ]
    }
   ],
   "source": [
    "for num in range(1, 41):\n",
    "    pagina = str(num)\n",
    "    url = f'http://www.portaldatransparencia.gov.br/api-de-dados/orgaos-siape?pagina={pagina}'\n",
    "    print(url)\n",
    "    \n",
    "    try:\n",
    "        r = requests.get(url)\n",
    "    except requests.exceptions.HTTPError as errh:\n",
    "        print (\"Http Error:\",errh)\n",
    "    except requests.exceptions.ConnectionError as errc:\n",
    "        print (\"Error Connecting:\",errc) \n",
    "    except requests.exceptions.Timeout as errt:\n",
    "        print (\"Timeout Error:\",errt)\n",
    "    except requests.exceptions.RequestException as err:\n",
    "        print (\"OOps: Something Else\",err)\n",
    "        \n",
    "    siape = r.json()\n",
    "    \n",
    "    df_siape_parcial = pd.DataFrame(siape)\n",
    "    \n",
    "    if num == 1:\n",
    "        df_siape = df_siape_parcial\n",
    "    elif num > 1:\n",
    "        df_siape = df_siape.append(df_siape_parcial)"
   ]
  },
  {
   "cell_type": "code",
   "execution_count": null,
   "metadata": {},
   "outputs": [],
   "source": []
  },
  {
   "cell_type": "code",
   "execution_count": 13,
   "metadata": {},
   "outputs": [
    {
     "data": {
      "text/html": [
       "<div>\n",
       "<style scoped>\n",
       "    .dataframe tbody tr th:only-of-type {\n",
       "        vertical-align: middle;\n",
       "    }\n",
       "\n",
       "    .dataframe tbody tr th {\n",
       "        vertical-align: top;\n",
       "    }\n",
       "\n",
       "    .dataframe thead th {\n",
       "        text-align: right;\n",
       "    }\n",
       "</style>\n",
       "<table border=\"1\" class=\"dataframe\">\n",
       "  <thead>\n",
       "    <tr style=\"text-align: right;\">\n",
       "      <th></th>\n",
       "      <th>index</th>\n",
       "      <th>codigo</th>\n",
       "      <th>descricao</th>\n",
       "    </tr>\n",
       "  </thead>\n",
       "  <tbody>\n",
       "    <tr>\n",
       "      <th>0</th>\n",
       "      <td>0</td>\n",
       "      <td>00001</td>\n",
       "      <td>IGNORADO - CONVERSAO DO SIPEFAZ</td>\n",
       "    </tr>\n",
       "    <tr>\n",
       "      <th>1</th>\n",
       "      <td>1</td>\n",
       "      <td>00005</td>\n",
       "      <td>EXC-EMPRESA PRIVADA</td>\n",
       "    </tr>\n",
       "    <tr>\n",
       "      <th>2</th>\n",
       "      <td>2</td>\n",
       "      <td>00006</td>\n",
       "      <td>EXC-EMPRESAS PUBLICAS/CLT</td>\n",
       "    </tr>\n",
       "    <tr>\n",
       "      <th>3</th>\n",
       "      <td>3</td>\n",
       "      <td>00008</td>\n",
       "      <td>EXC-ENTIDADES EM EXTINC,DIS.,PRIV.L.80</td>\n",
       "    </tr>\n",
       "    <tr>\n",
       "      <th>4</th>\n",
       "      <td>4</td>\n",
       "      <td>00009</td>\n",
       "      <td>EXC-ESTADOS / MUNICIPIOS / OUTROS</td>\n",
       "    </tr>\n",
       "  </tbody>\n",
       "</table>\n",
       "</div>"
      ],
      "text/plain": [
       "   index codigo                               descricao\n",
       "0      0  00001         IGNORADO - CONVERSAO DO SIPEFAZ\n",
       "1      1  00005                     EXC-EMPRESA PRIVADA\n",
       "2      2  00006               EXC-EMPRESAS PUBLICAS/CLT\n",
       "3      3  00008  EXC-ENTIDADES EM EXTINC,DIS.,PRIV.L.80\n",
       "4      4  00009       EXC-ESTADOS / MUNICIPIOS / OUTROS"
      ]
     },
     "execution_count": 13,
     "metadata": {},
     "output_type": "execute_result"
    }
   ],
   "source": [
    "df_siape.reset_index().head()"
   ]
  },
  {
   "cell_type": "code",
   "execution_count": 14,
   "metadata": {},
   "outputs": [
    {
     "name": "stdout",
     "output_type": "stream",
     "text": [
      "<class 'pandas.core.frame.DataFrame'>\n",
      "Int64Index: 598 entries, 0 to 12\n",
      "Data columns (total 2 columns):\n",
      "codigo       598 non-null object\n",
      "descricao    598 non-null object\n",
      "dtypes: object(2)\n",
      "memory usage: 14.0+ KB\n"
     ]
    }
   ],
   "source": [
    "df_siape.info()"
   ]
  },
  {
   "cell_type": "code",
   "execution_count": null,
   "metadata": {},
   "outputs": [],
   "source": []
  },
  {
   "cell_type": "code",
   "execution_count": 15,
   "metadata": {},
   "outputs": [],
   "source": [
    "df_siape.to_csv(\"codigos/codigos_siape.csv\", index=False)"
   ]
  },
  {
   "cell_type": "code",
   "execution_count": null,
   "metadata": {},
   "outputs": [],
   "source": []
  }
 ],
 "metadata": {
  "kernelspec": {
   "display_name": "Python 3",
   "language": "python",
   "name": "python3"
  },
  "language_info": {
   "codemirror_mode": {
    "name": "ipython",
    "version": 3
   },
   "file_extension": ".py",
   "mimetype": "text/x-python",
   "name": "python",
   "nbconvert_exporter": "python",
   "pygments_lexer": "ipython3",
   "version": "3.6.2"
  }
 },
 "nbformat": 4,
 "nbformat_minor": 2
}
